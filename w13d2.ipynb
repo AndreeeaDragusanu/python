{
 "cells": [
  {
   "cell_type": "code",
   "execution_count": 1,
   "id": "eafea4f9-6a24-4c3c-9038-cbf2f833fbe7",
   "metadata": {},
   "outputs": [
    {
     "name": "stdout",
     "output_type": "stream",
     "text": [
      "E\n",
      "p\n",
      "i\n",
      "c\n",
      "o\n",
      "d\n",
      "e\n"
     ]
    }
   ],
   "source": [
    "\"\"\"Esercizio Abbiamo la stringa:\n",
    "nome_scuola = \"Epicode\" \n",
    "Stampare ogni carattere della stringa, uno su ogni riga, utilizzando un costrutto while.\"\"\"\n",
    "nome_scuola = \"Epicode\"\n",
    "indice = 0\n",
    "while indice < len(nome_scuola):\n",
    "    print(nome_scuola[indice])\n",
    "    indice = indice + 1"
   ]
  },
  {
   "cell_type": "code",
   "execution_count": 2,
   "id": "473df0bb-bff0-4c7d-98eb-15def409deb8",
   "metadata": {},
   "outputs": [
    {
     "name": "stdout",
     "output_type": "stream",
     "text": [
      "[0, 1, 2, 3, 4, 5, 6, 7, 8, 9, 10, 11, 12, 13, 14, 15, 16, 17, 18, 19, 20]\n"
     ]
    }
   ],
   "source": [
    "\"\"\"Stampare a video tutti i numeri da 0 a 20 utilizzando il costrutto while.\n",
    "Utilizzeremo: • un ciclo while • la funzione print() • una variabile, che dovrà essere inizializzata • una procedura di incremento\"\"\"\n",
    "numero = 0\n",
    "lista_numeri = []\n",
    "while numero <= 20:\n",
    "    lista_numeri.append(numero)\n",
    "    numero = numero + 1\n",
    "print(lista_numeri)"
   ]
  },
  {
   "cell_type": "code",
   "execution_count": 3,
   "id": "dc110c0d-617d-4056-9275-de8983ab80f9",
   "metadata": {},
   "outputs": [
    {
     "name": "stdout",
     "output_type": "stream",
     "text": [
      "[1, 2, 4, 8, 16, 32, 64, 128, 256, 512]\n"
     ]
    }
   ],
   "source": [
    "\"\"\"Calcolare e stampare tutte le prime 10 potenze di 2 (e.g., 2⁰, 2¹, 2², …) utilizzando un ciclo while.\"\"\"\n",
    "potenza=0\n",
    "elevazione=[]\n",
    "while potenza < 10: \n",
    "    elevazione.append(2**potenza)\n",
    "    potenza += 1\n",
    "print(elevazione)"
   ]
  },
  {
   "cell_type": "code",
   "execution_count": 4,
   "id": "a79791da-c974-4f71-a4d5-36fcaffa7f4f",
   "metadata": {},
   "outputs": [
    {
     "name": "stdin",
     "output_type": "stream",
     "text": [
      "inserire un numero intero tra 0 e 30:  6\n"
     ]
    },
    {
     "name": "stdout",
     "output_type": "stream",
     "text": [
      "[1, 2, 4, 8, 16, 32]\n"
     ]
    }
   ],
   "source": [
    "\"\"\"Calcolare e stampare tutte le prime N potenze di 2 utilizzando un ciclo while, domandando all'utente di inserire N.\"\"\"\n",
    "potenza = 0\n",
    "n = int(input(\"inserire un numero intero tra 0 e 30: \"))\n",
    "elevazione_di_2 = []\n",
    "while potenza < n and n >= 0 and n <= 30:\n",
    "    elevazione_di_2.append(2 ** potenza)\n",
    "    potenza += 1\n",
    "print(elevazione_di_2)"
   ]
  },
  {
   "cell_type": "code",
   "execution_count": 2,
   "id": "bd080f6d-a978-4311-8f63-0a6da48a7f0f",
   "metadata": {},
   "outputs": [
    {
     "name": "stdout",
     "output_type": "stream",
     "text": [
      "2 alla  0 è  1\n",
      "2 alla  1 è  2\n",
      "2 alla  2 è  4\n",
      "2 alla  3 è  8\n",
      "2 alla  4 è  16\n",
      "2 alla  5 è  32\n",
      "2 alla  6 è  64\n",
      "2 alla  7 è  128\n",
      "2 alla  8 è  256\n",
      "2 alla  9 è  512\n",
      "2 alla  10 è  1024\n",
      "2 alla  11 è  2048\n",
      "2 alla  12 è  4096\n",
      "2 alla  13 è  8192\n",
      "2 alla  14 è  16384\n"
     ]
    }
   ],
   "source": [
    "\"\"\"Calcolare e stampare tutte le potenze di 2 minori di 25000.\"\"\"\n",
    "potenza = 0\n",
    "while 2 ** potenza < 25000: \n",
    "    print(\"2 alla \", potenza, \"è \", 2 ** potenza)\n",
    "    potenza += 1"
   ]
  },
  {
   "cell_type": "code",
   "execution_count": 6,
   "id": "3d990ac8-0c61-48e7-8409-8e72c2146bdf",
   "metadata": {},
   "outputs": [
    {
     "name": "stdout",
     "output_type": "stream",
     "text": [
      "['Cybersecurity', 'Data Analyst', 'Backend', 'Frontend', 'Data Analyst', 'Backend', 'Frontend', 'Cybersecurity']\n"
     ]
    }
   ],
   "source": [
    "\"\"\"Abbiamo due liste, una di studenti e una di corsi:\n",
    "studenti = [\"Alex\", \"Bob\", \"Cindy\", \"Dan\", \"Emma\", \"Faith\", \"Grace\", \"Henry\"]\n",
    "corsi = [\"Cybersecurity\", \"Data Analyst\", \"Backend\", \"Frontend\", \"Data Analyst\", \"Backend\"]\n",
    "Aggiungere i dati mancanti alla lista corsi, sapendo che Emma segue Data Analyst Faith segue Backend \n",
    "Grace segue Frontend Henry segue Cybersecurity \n",
    "Aggiungeremo i dati mancanti uno alla volta con il metodo per appendere in coda alle liste, \n",
    "poi verificheremo che sono della stessa lunghezza e se lo sono stamperemo la lista corsi.\n",
    "Se alcuni dati sono già presenti non vanno aggiunti di nuovo.\"\"\"\n",
    "\n",
    "studenti = [\"Alex\", \"Bob\", \"Cindy\", \"Dan\", \"Emma\", \"Faith\", \"Grace\", \"Henry\"]\n",
    "corsi = [\"Cybersecurity\", \"Data Analyst\", \"Backend\", \"Frontend\", \"Data Analyst\", \"Backend\"]\n",
    "corsi.append(\"Frontend\")\n",
    "corsi.append(\"Cybersecurity\")\n",
    "if len(studenti) == len(corsi):\n",
    "    print(corsi)"
   ]
  },
  {
   "cell_type": "code",
   "execution_count": 7,
   "id": "5c297e96-9fd3-4271-b4d3-d9f6a28b26f4",
   "metadata": {},
   "outputs": [
    {
     "name": "stdin",
     "output_type": "stream",
     "text": [
      "inserire una stringa di al meno 6 caratteri:  rottweiler\n"
     ]
    },
    {
     "data": {
      "text/plain": [
       "'rot...ler'"
      ]
     },
     "execution_count": 7,
     "metadata": {},
     "output_type": "execute_result"
    }
   ],
   "source": [
    "\"\"\"Scriviamo un programma che chiede in input all'utente una stringa e visualizza i primi 3 caratteri,\n",
    "seguiti da 3 punti di sospensione e quindi gli ultimi 3 caratteri, similmente all'esercizio della lezione scorsa.\n",
    "Stavolta facciamo attenzione a tutti i casi particolari,\n",
    "ovvero implementare soluzioni ad hoc per stringhe di lunghezza inferiore a 6 caratteri.\"\"\"\n",
    "stringa = str(input(\"inserire una stringa di al meno 6 caratteri: \"))\n",
    "nuova_stringa = stringa[0:3] + \"...\" + stringa[-3:len(stringa)]\n",
    "nuova_stringa"
   ]
  },
  {
   "cell_type": "code",
   "execution_count": 8,
   "id": "8a188547-7e6d-4933-aa00-033d6e3eb24f",
   "metadata": {},
   "outputs": [
    {
     "name": "stdin",
     "output_type": "stream",
     "text": [
      "inserisci un numero intero:  195\n"
     ]
    },
    {
     "name": "stdout",
     "output_type": "stream",
     "text": [
      "[3, 5, 13]\n"
     ]
    }
   ],
   "source": [
    "\"\"\"Memorizza e stampa tutti i fattori di un numero dato in input.\n",
    "Esempio: • input: 150 • output: [2, 3, 5, 5]\"\"\"\n",
    "\n",
    "n = int(input(\"inserisci un numero intero: \"))\n",
    "fattore = 2\n",
    "fattori = []\n",
    "while n >1:\n",
    "    if n % fattore == 0:\n",
    "        fattori.append(fattore)\n",
    "        n //= fattore\n",
    "    else:\n",
    "        fattore += 1\n",
    "print(fattori)"
   ]
  },
  {
   "cell_type": "code",
   "execution_count": 9,
   "id": "a3a6683e-a786-4b50-aca5-40653bf7cb0a",
   "metadata": {},
   "outputs": [
    {
     "name": "stdout",
     "output_type": "stream",
     "text": [
      "E\n",
      "p\n",
      "i\n",
      "c\n",
      "o\n",
      "d\n",
      "e\n"
     ]
    }
   ],
   "source": [
    "\"\"\"Abbiamo la stringa:\n",
    "nome_scuola = \"Epicode\" \n",
    "Stampare ogni carattere della stringa, uno su ogni riga, utilizzando un costrutto for.\"\"\"\n",
    "\n",
    "nome_scuola = \"Epicode\"\n",
    "for lettera in nome_scuola:\n",
    "    print(lettera)"
   ]
  },
  {
   "cell_type": "code",
   "execution_count": 10,
   "id": "d7d8e173-d11c-4dee-8450-4ac26df0281f",
   "metadata": {},
   "outputs": [
    {
     "name": "stdout",
     "output_type": "stream",
     "text": [
      "2 alla 0 è 1\n",
      "2 alla 1 è 2\n",
      "2 alla 2 è 4\n",
      "2 alla 3 è 8\n",
      "2 alla 4 è 16\n",
      "2 alla 5 è 32\n",
      "2 alla 6 è 64\n",
      "2 alla 7 è 128\n",
      "2 alla 8 è 256\n",
      "2 alla 9 è 512\n"
     ]
    }
   ],
   "source": [
    "\"\"\" Calcolare e stampare tutte le prime 10 potenze di 2 utilizzando un ciclo.\"\"\"\n",
    "range = []\n",
    "n = 0\n",
    "while n < 10:\n",
    "    range.append(n)\n",
    "    n = n + 1\n",
    "for potenza in range:\n",
    "    print(\"2 alla\", potenza, \"è\", 2 ** potenza)    "
   ]
  },
  {
   "cell_type": "code",
   "execution_count": 11,
   "id": "44793884-47d9-4705-a262-ea93248d9258",
   "metadata": {},
   "outputs": [
    {
     "name": "stdin",
     "output_type": "stream",
     "text": [
      "inserire un numero n:  4\n",
      "inserire un numero k:  6\n"
     ]
    },
    {
     "data": {
      "text/plain": [
       "[1, 6, 36, 216, 1296, 7776]"
      ]
     },
     "execution_count": 11,
     "metadata": {},
     "output_type": "execute_result"
    }
   ],
   "source": [
    "\"\"\"Calcolare (ma non stampare) le prime N potenze di K;\n",
    "ognuna di esse andrà memorizzata in coda a una lista. \n",
    "Alla fine, stampare la lista risultante.\n",
    "Proviamo con diversi valori di K, oppure facciamola inserire all'utente.\n",
    "Realizzare due versioni:\n",
    "• con un ciclo while, \n",
    "• con un ciclo for.\"\"\"\n",
    "\n",
    "n = int(input(\"inserire un numero n: \"))\n",
    "k = int(input(\"inserire un numero k: \"))\n",
    "range_n = []\n",
    "potenza_k = []\n",
    "x=0\n",
    "while x < n:\n",
    "    range_n.append(x)\n",
    "    for potenza in range_n:\n",
    "        potenza_k.append(k ** x)\n",
    "        x= x+1\n",
    "potenza_k"
   ]
  },
  {
   "cell_type": "code",
   "execution_count": 12,
   "id": "c307d142-51aa-4e30-9185-4ce11d4d0a89",
   "metadata": {},
   "outputs": [
    {
     "name": "stdin",
     "output_type": "stream",
     "text": [
      "inserire un numero n:  4\n",
      "inserire un numero k:  6\n"
     ]
    },
    {
     "data": {
      "text/plain": [
       "[1, 6, 36, 216]"
      ]
     },
     "execution_count": 12,
     "metadata": {},
     "output_type": "execute_result"
    }
   ],
   "source": [
    "n = int(input(\"inserire un numero n: \"))\n",
    "k = int(input(\"inserire un numero k: \"))\n",
    "range_n = []\n",
    "potenza_k = []\n",
    "x=0\n",
    "potenza=0\n",
    "while x < n:\n",
    "    range_n.append(x)\n",
    "    while x < len(range_n):\n",
    "        potenza_k.append(k ** x)\n",
    "        x= x+1\n",
    "potenza_k"
   ]
  },
  {
   "cell_type": "code",
   "execution_count": 13,
   "id": "b73169f0-9358-4f10-9683-c63bf858ffec",
   "metadata": {},
   "outputs": [
    {
     "name": "stdout",
     "output_type": "stream",
     "text": [
      "Media dei guadagni è:  70.0\n"
     ]
    }
   ],
   "source": [
    "\"\"\"Abbiamo una lista con i guadagni degli ultimi 12 mesi:\n",
    "guadagni = [100, 90, 70, 40, 50, 80, 90, 120, 80, 20, 50, 50] \n",
    "usando un costrutto for, calcolare la media dei guadagni e stamparla a video.\"\"\"\n",
    "guadagni = [100, 90, 70, 40, 50, 80, 90, 120, 80, 20, 50, 50] \n",
    "somma = 0\n",
    "for stipendio in guadagni:\n",
    "    somma = somma + stipendio\n",
    "media = somma / len(guadagni)\n",
    "print(\"Media dei guadagni è: \", media)"
   ]
  },
  {
   "cell_type": "code",
   "execution_count": 14,
   "id": "3f1a9249-a942-4bad-9b19-a877b200bf3c",
   "metadata": {},
   "outputs": [
    {
     "name": "stdout",
     "output_type": "stream",
     "text": [
      "Albergo 1\n",
      "Sedia 1\n",
      "Petalo 1\n",
      "Eremo 2\n",
      "Belvedere 4\n",
      "Semestre 3\n",
      "Esteta 2\n",
      "Orpello 1\n",
      "Abete 2\n",
      "Cesta 1\n",
      "Ermellino 2\n"
     ]
    }
   ],
   "source": [
    "\"\"\"Abbiamo una lista di parole:\n",
    "parole = [\"Albergo\", \"Sedia\", \"Borgo\", \"Petalo\", \"Eremo\", \"Belvedere\", \"Semestre\",\"Esteta\", \"Sosta\", \"Orpello\", \"Abete\", \"Orologio\", \"Cesta\", \"Ermellino\"] \n",
    "stampiamo,\n",
    "per ogni parola, quante volte appare la lettera e;\n",
    "facciamo attenzione al fatto che appare sia maiuscolo che minuscolo.\"\"\"\n",
    "\n",
    "\n",
    "parole = [\"Albergo\", \"Sedia\", \"Borgo\", \"Petalo\", \"Eremo\", \"Belvedere\", \"Semestre\",\"Esteta\", \"Sosta\", \"Orpello\", \"Abete\", \"Orologio\", \"Cesta\", \"Ermellino\"]\n",
    "for parola in parole:\n",
    "    if \"e\" in parola.lower():\n",
    "        print(parola,parola.lower().count(\"e\"))"
   ]
  },
  {
   "cell_type": "code",
   "execution_count": 15,
   "id": "e4bcd8ff-30a4-490b-a2f8-98bbe0f3073b",
   "metadata": {},
   "outputs": [
    {
     "data": {
      "text/plain": [
       "{'Ada': 'Punto', 'Ben': 'Multipla', 'Charlie': 'Golf', 'Debbie': '107'}"
      ]
     },
     "execution_count": 15,
     "metadata": {},
     "output_type": "execute_result"
    }
   ],
   "source": [
    "\"\"\"Creiamo un dizionario che assegni ad ogni proprietario la sua auto, sapendo che: \n",
    "• Ada guida una Punto \n",
    "• Ben guida una Multipla \n",
    "• Charlie guida una Golf \n",
    "• Debbie guida una 107\n",
    "Stampiamo il dizionario per intero, e poi l'auto associata a Debbie.\"\"\"\n",
    "\n",
    "dizionario = {\"Ada\": \"Punto\", \"Ben\": \"Multipla\", \"Charlie\": \"Golf\", \"Debbie\": \"107\"}\n",
    "dizionario "
   ]
  },
  {
   "cell_type": "code",
   "execution_count": 16,
   "id": "ec413b88-cca5-4388-adb1-dd38790097fc",
   "metadata": {},
   "outputs": [
    {
     "name": "stdout",
     "output_type": "stream",
     "text": [
      "Punto\n",
      "Golf\n",
      "107\n"
     ]
    }
   ],
   "source": [
    "\"\"\"Abbiamo un dizionario che assegna ad ogni proprietario la sua auto:\n",
    "dizionario_auto = {\"Ada\": \"Punto\", \"Ben\": \"Multipla\", \"Charlie\": \"Golf\", \"Debbie\": \"107\"}\n",
    "Con un ciclo, e usando il metodo .values(), stampiamo a video tutte le auto che non sono una Multipla.\"\"\"\n",
    "dizionario_auto = {\"Ada\": \"Punto\", \"Ben\": \"Multipla\", \"Charlie\": \"Golf\", \"Debbie\": \"107\"}\n",
    "for i in dizionario_auto.values():\n",
    "    if i != \"Multipla\":\n",
    "        print(i)"
   ]
  },
  {
   "cell_type": "code",
   "execution_count": 17,
   "id": "3d17adef-bd3e-424c-93f6-d63dc94b0c04",
   "metadata": {},
   "outputs": [
    {
     "data": {
      "text/plain": [
       "{'Ada': 'Punto',\n",
       " 'Ben': 'Polo',\n",
       " 'Charlie': 'Golf',\n",
       " 'Debbie': '107',\n",
       " 'Emily': 'A1',\n",
       " 'Fred': 'Octavia',\n",
       " 'Grace': 'Yaris',\n",
       " 'Hugh': 'Clio'}"
      ]
     },
     "execution_count": 17,
     "metadata": {},
     "output_type": "execute_result"
    }
   ],
   "source": [
    "\"\"\"Abbiamo due dizionari che assegnano ad ogni proprietario la propria auto.\n",
    "Aggiornare il dizionario dizionario_auto con i dati contenuti in nuovi_proprietari e stamparlo.\n",
    "Cosa è successo a Ben?\"\"\"\n",
    "dizionario_auto = {\"Ada\": \"Punto\", \"Ben\": \"Multipla\", \"Charlie\": \"Golf\", \"Debbie\": \"107\", \"Emily\": \"A1\"}\n",
    "nuovi_proprietari = {\"Ben\": \"Polo\", \"Fred\": \"Octavia\", \"Grace\": \"Yaris\", \"Hugh\": \"Clio\"}\n",
    "dizionario_auto.update(nuovi_proprietari)\n",
    "dizionario_auto"
   ]
  },
  {
   "cell_type": "code",
   "execution_count": 20,
   "id": "d97bf5b3-f6a1-4108-a9e5-aa5285499b0f",
   "metadata": {},
   "outputs": [
    {
     "name": "stdin",
     "output_type": "stream",
     "text": [
      "inserisci il numero di elementi della lista:  4\n",
      "inserisci elemento nella lista:  6\n",
      "inserisci elemento nella lista:  4\n",
      "inserisci elemento nella lista:  5\n",
      "inserisci elemento nella lista:  2\n"
     ]
    },
    {
     "data": {
      "text/plain": [
       "6"
      ]
     },
     "execution_count": 20,
     "metadata": {},
     "output_type": "execute_result"
    }
   ],
   "source": [
    "\"\"\"Scrivere un programma che, data una lista di numeri, fornisca in output il minimo e il massimo \n",
    "(possiamo usare o meno le funzioni built-in min() e max()).\"\"\"\n",
    "lista_numeri = []\n",
    "n = int(input(\"inserisci il numero di elementi della lista: \"))\n",
    "while len(lista_numeri) < n:\n",
    "    lista_numeri.append(int(input(\"inserisci elemento nella lista: \")))\n",
    "lista_numeri\n",
    "el_massimo = lista_numeri[0]\n",
    "for i in lista_numeri:\n",
    "    if i >= el_massimo:\n",
    "        el_massimo = i\n",
    "el_massimo"
   ]
  },
  {
   "cell_type": "code",
   "execution_count": 22,
   "id": "ef26e599-1403-487a-ac91-abfcdbad0ae6",
   "metadata": {},
   "outputs": [
    {
     "name": "stdin",
     "output_type": "stream",
     "text": [
      "inserisci il numero di elementi della lista:  4\n",
      "inserisci elemento nella lista:  3\n",
      "inserisci elemento nella lista:  5\n",
      "inserisci elemento nella lista:  1\n",
      "inserisci elemento nella lista:  7\n"
     ]
    },
    {
     "data": {
      "text/plain": [
       "1"
      ]
     },
     "execution_count": 22,
     "metadata": {},
     "output_type": "execute_result"
    }
   ],
   "source": [
    "lista_numeri = []\n",
    "n = int(input(\"inserisci il numero di elementi della lista: \"))\n",
    "while len(lista_numeri) < n:\n",
    "    lista_numeri.append(int(input(\"inserisci elemento nella lista: \")))\n",
    "lista_numeri\n",
    "el_minimo = lista_numeri[0]\n",
    "for i in lista_numeri:\n",
    "    if i <= el_minimo:\n",
    "        el_minimo = i\n",
    "el_minimo"
   ]
  },
  {
   "cell_type": "code",
   "execution_count": 23,
   "id": "c114382f-a47a-420d-a593-1285855cb512",
   "metadata": {},
   "outputs": [
    {
     "name": "stdin",
     "output_type": "stream",
     "text": [
      "inserisci il numero di elementi della lista:  6\n",
      "inserisci elemento nella lista:  4\n",
      "inserisci elemento nella lista:  8\n",
      "inserisci elemento nella lista:  9\n",
      "inserisci elemento nella lista:  3\n",
      "inserisci elemento nella lista:  2\n",
      "inserisci elemento nella lista:  6\n"
     ]
    },
    {
     "data": {
      "text/plain": [
       "[9, 8, 6]"
      ]
     },
     "execution_count": 23,
     "metadata": {},
     "output_type": "execute_result"
    }
   ],
   "source": [
    "\"\"\"Scrivere un programma che, data una lista di numeri,\n",
    "fornisca in output i tre numeri più grandi; \n",
    "gestire il caso in cui la lista sia più corta di tre,\n",
    "e quando uno o più dei numeri selezionati sono uguali.\"\"\"\n",
    "lista_numeri = []\n",
    "n = int(input(\"inserisci il numero di elementi della lista: \"))\n",
    "while len(lista_numeri) < n:\n",
    "    lista_numeri.append(int(input(\"inserisci elemento nella lista: \")))\n",
    "lista_numeri\n",
    "lista_numeri.sort(reverse = True)\n",
    "lista_numeri\n",
    "primi_3_numeri = []\n",
    "for i in lista_numeri:\n",
    "    if len(lista_numeri) < 3:\n",
    "        print(\"lista numeri troppo corta per estrare i primi 3 numeri piu grandi.\")\n",
    "    else:\n",
    "        primi_3_numeri = lista_numeri[:3]\n",
    "primi_3_numeri"
   ]
  },
  {
   "cell_type": "code",
   "execution_count": 24,
   "id": "fb8debc6-a01c-4bbe-acd5-bc5acdcefe36",
   "metadata": {},
   "outputs": [
    {
     "name": "stdin",
     "output_type": "stream",
     "text": [
      "inserisci un numero:  5\n",
      "inserisci il numero di elementi della lista:  3\n",
      "inserisci elemento nella lista:  8\n",
      "inserisci elemento nella lista:  6\n",
      "inserisci elemento nella lista:  2\n"
     ]
    },
    {
     "name": "stdout",
     "output_type": "stream",
     "text": [
      "la media degli elementi maggiori di k:  7.0\n"
     ]
    }
   ],
   "source": [
    "\"\"\"Scrivere un programma che \n",
    "• in input acquisisce una lista di numeri e un numero K \n",
    "• in output, dovrà restituire la media di tutti i numeri nella lista maggiori o uguali a K\n",
    "• se non ce ne dovesse essere nessuno, dovrà stampare a schermo un messaggio adeguato\"\"\"\n",
    "k = int(input(\"inserisci un numero: \"))\n",
    "lista_numeri = []\n",
    "n = int(input(\"inserisci il numero di elementi della lista: \"))\n",
    "while len(lista_numeri) < n:\n",
    "    lista_numeri.append(int(input(\"inserisci elemento nella lista: \")))\n",
    "lista_numeri\n",
    "nuova_lista = []\n",
    "for i in lista_numeri:\n",
    "    if i >= k:\n",
    "        nuova_lista.append(i)\n",
    "nuova_lista\n",
    "if len(nuova_lista) > 0:\n",
    "    media = sum(nuova_lista) / len(nuova_lista)\n",
    "    print(\"la media degli elementi maggiori di k: \", media)\n",
    "else:\n",
    "    print(\" in lista non ci sono elementi maggiori di k. \")"
   ]
  },
  {
   "cell_type": "code",
   "execution_count": 25,
   "id": "079863f6-2848-4e22-b372-7f47a67e51f1",
   "metadata": {},
   "outputs": [
    {
     "name": "stdin",
     "output_type": "stream",
     "text": [
      "inserisci il numero di elementi della lista:  4\n",
      "inserisci elemento nella lista:  8\n",
      "inserisci elemento nella lista:  6\n",
      "inserisci elemento nella lista:  4\n",
      "inserisci elemento nella lista:  8\n"
     ]
    },
    {
     "name": "stdout",
     "output_type": "stream",
     "text": [
      "********\n",
      "******\n",
      "****\n",
      "********\n"
     ]
    }
   ],
   "source": [
    "\"\"\"Scrivere un programma che, data una lista di numeri, \n",
    "come output stamperà lo stesso numero di asterischi su righe diverse,\n",
    "ottenendo una semplice visualizzazione grafica\n",
    "Esempio, supponendo di avere il seguente input: numeri = [5, 2, 3, 4]\n",
    "L'output sarà:\n",
    "***** \n",
    "** \n",
    "*** \n",
    "****\"\"\"\n",
    "lista_numeri = []\n",
    "n = int(input(\"inserisci il numero di elementi della lista: \"))\n",
    "while len(lista_numeri) < n:\n",
    "    lista_numeri.append(int(input(\"inserisci elemento nella lista: \")))\n",
    "lista_numeri\n",
    "for i in lista_numeri:\n",
    "    print(\"*\" * i)    "
   ]
  },
  {
   "cell_type": "code",
   "execution_count": 26,
   "id": "4fb9ac9d-3af9-4ff8-933d-579ce962ce40",
   "metadata": {},
   "outputs": [
    {
     "data": {
      "text/plain": [
       "['ABCDEF95G01A123B', 'STUVWX95Z04A654E', 'DEFGHI95J06A987G']"
      ]
     },
     "execution_count": 26,
     "metadata": {},
     "output_type": "execute_result"
    }
   ],
   "source": [
    "\"\"\"Abbiamo una lista di codici fiscali:\n",
    "lista_cf = [\"ABCDEF95G01A123B\", \"GHIJKL91M02A321C\", \"MNOPQR89S03A456D\", \"STUVWX95Z04A654E\", \"XYZABC01D05A789F\", \"DEFGHI95J06A987G\"] \n",
    "• trovare i codici fiscali che contengono \"95\", metterli in una lista, e alla fine stamparla; \n",
    "• inoltre, per ognuno di essi, stampare a video i caratteri relativi al nome e quelli relativi al cognome.\"\"\"\n",
    "\n",
    "lista_cf = [\"ABCDEF95G01A123B\", \"GHIJKL91M02A321C\", \"MNOPQR89S03A456D\", \"STUVWX95Z04A654E\", \"XYZABC01D05A789F\", \"DEFGHI95J06A987G\"] \n",
    "nuova_lista = []\n",
    "for cf in lista_cf:\n",
    "    if \"95\" in cf:\n",
    "        nuova_lista.append(cf) \n",
    "nuova_lista"
   ]
  },
  {
   "cell_type": "code",
   "execution_count": 28,
   "id": "8e9e2961-781f-4d0b-a655-7b30f929e4d0",
   "metadata": {},
   "outputs": [
    {
     "name": "stdout",
     "output_type": "stream",
     "text": [
      "ABCDEF95G01A123B caratteri cognome:  ABC caratteri nome:  DEF\n",
      "STUVWX95Z04A654E caratteri cognome:  STU caratteri nome:  VWX\n",
      "DEFGHI95J06A987G caratteri cognome:  DEF caratteri nome:  GHI\n"
     ]
    }
   ],
   "source": [
    "lista_cf = [\"ABCDEF95G01A123B\", \"GHIJKL91M02A321C\", \"MNOPQR89S03A456D\", \"STUVWX95Z04A654E\", \"XYZABC01D05A789F\", \"DEFGHI95J06A987G\"] \n",
    "nuova_lista = []\n",
    "for cf in lista_cf:\n",
    "    if \"95\" in cf:\n",
    "        nuova_lista.append(cf) \n",
    "nuova_lista\n",
    "for i in nuova_lista:\n",
    "    print(i, \"caratteri cognome: \", i[0:3], \"caratteri nome: \", i[3:6])"
   ]
  },
  {
   "cell_type": "code",
   "execution_count": 29,
   "id": "6a5f1ebf-686e-4a34-8755-ba0044d0986e",
   "metadata": {},
   "outputs": [
    {
     "name": "stdout",
     "output_type": "stream",
     "text": [
      "Alex\n",
      "Faith\n"
     ]
    }
   ],
   "source": [
    "\"\"\"Abbiamo tre liste della stessa lunghezza, \n",
    "dove ogni elemento nella medesima posizione si riferisce ai dati dello stesso studente:\n",
    "• Stampare a video tutti e soli gli studenti che frequentano una prima edizione;\n",
    "non tutti i dati potrebbero essere necessari. \n",
    "• Riuscite a vedere una similarità con la logica che si usa in SQL e le tabelle relazionali?\"\"\"\n",
    "studenti = [\"Alex\", \"Bob\", \"Cindy\", \"Dan\", \"Emma\", \"Faith\", \"Grace\", \"Henry\"] \n",
    "corsi = [\"Cybersecurity\", \"Data Analyst\", \"Backend\", \"Frontend\", \"Data Analyst\", \"Backend\", \"Frontend\", \"Cybersecurity\"]\n",
    "edizioni = [1, 2, 3, 2, 2, 1, 3, 3]\n",
    "for studenti, edizioni in zip(studenti, edizioni):\n",
    "    if edizioni == 1: \n",
    "        print(studenti)"
   ]
  },
  {
   "cell_type": "code",
   "execution_count": 30,
   "id": "4817a965-8d4e-47ea-81be-200b4eab0c1c",
   "metadata": {},
   "outputs": [
    {
     "data": {
      "text/plain": [
       "['100 $', '200 $', '500 $', '10 $', '50 $', '70 $']"
      ]
     },
     "execution_count": 30,
     "metadata": {},
     "output_type": "execute_result"
    }
   ],
   "source": [
    "\"\"\"Abbiamo una lista di stringhe di prezzi in dollari, \n",
    "che erroneamente sono stati scritti con il simbolo dell'euro:\n",
    "prezzi = [\"100 €\", \"200 €\", \"500 €\", \"10 €\", \"50 €\", \"70 €\"] \n",
    "cambiare il simbolo dell'euro (€) in quello del dollaro ($) per ogni stringa nella lista; \n",
    "il risultato sarà memorizzato in un'altra lista.\"\"\"\n",
    "prezzi = [\"100 €\", \"200 €\", \"500 €\", \"10 €\", \"50 €\", \"70 €\"]\n",
    "prezzi_nuovi = []\n",
    "for i in prezzi:\n",
    "    prezzi_nuovi.append(i.replace(\"€\", \"$\"))\n",
    "prezzi_nuovi"
   ]
  },
  {
   "cell_type": "code",
   "execution_count": 31,
   "id": "587f1baf-3642-429c-92ed-d02837dcef7d",
   "metadata": {},
   "outputs": [
    {
     "name": "stdout",
     "output_type": "stream",
     "text": [
      "Squadra pari: ['Alex', 'Cindy', 'Emma', 'Grace', 'Isabelle']\n",
      "Squadra dispari: ['Bob', 'Dan', 'Faith', 'Henry', 'John']\n"
     ]
    }
   ],
   "source": [
    "\"\"\"Abbiamo una lista di studenti:\n",
    "studenti = [\"Alex\", \"Bob\", \"Cindy\", \"Dan\", \"Emma\", \"Faith\", \"Grace\", \"Henry\", \"Isabelle\", \"John\"] \n",
    "vogliamo dividere gli studenti in due squadre per un campionato di Uno nel seguente modo:\n",
    "selezioneremo i nomi in posizione pari per un squadra, e i nomi in posizione dispari per l'altra. \n",
    "Creiamo due liste per ogni squadra, e alla fine visualizziamole.\"\"\"\n",
    "studenti = [\"Alex\", \"Bob\", \"Cindy\", \"Dan\", \"Emma\", \"Faith\", \"Grace\", \"Henry\", \"Isabelle\", \"John\"]\n",
    "squadra_pari = []\n",
    "squadra_dispari = []\n",
    "for i, studente in enumerate(studenti):\n",
    "    if i % 2 == 0:  \n",
    "        squadra_pari.append(studente)\n",
    "    else:  \n",
    "        squadra_dispari.append(studente)\n",
    "print(\"Squadra pari:\", squadra_pari)\n",
    "print(\"Squadra dispari:\", squadra_dispari)"
   ]
  },
  {
   "cell_type": "code",
   "execution_count": 32,
   "id": "67acfd53-9c8f-49be-9c01-74fedf0ef72e",
   "metadata": {},
   "outputs": [
    {
     "name": "stdout",
     "output_type": "stream",
     "text": [
      "Mese 1: 100 €\n",
      "Mese 2: 90 € (media prec: 100.00 € - il guadagno attuale è minore)\n",
      "Mese 3: 70 € (media prec: 95.00 € - il guadagno attuale è minore)\n",
      "Mese 4: 40 € (media prec: 86.67 € - il guadagno attuale è minore)\n",
      "Mese 5: 50 € (media prec: 75.00 € - il guadagno attuale è minore)\n",
      "Mese 6: 80 € (media prec: 70.00 € - il guadagno attuale è maggiore)\n",
      "Mese 7: 90 € (media prec: 71.67 € - il guadagno attuale è maggiore)\n",
      "Mese 8: 120 € (media prec: 74.29 € - il guadagno attuale è maggiore)\n",
      "Mese 9: 80 € (media prec: 80.00 € - il guadagno attuale è minore)\n",
      "Mese 10: 20 € (media prec: 80.00 € - il guadagno attuale è minore)\n",
      "Mese 11: 50 € (media prec: 74.00 € - il guadagno attuale è minore)\n",
      "Mese 12: 50 € (media prec: 71.82 € - il guadagno attuale è minore)\n"
     ]
    }
   ],
   "source": [
    "\"\"\"Abbiamo una lista con i guadagni degli ultimi 12 mesi (supponiamo da Gennaio a Dicembre):\n",
    "guadagni = [100, 90, 70, 40, 50, 80, 90, 120, 80, 20, 50, 50]\n",
    "dobbiamo confrontare, stampando tutto a video,\n",
    "il guadagno di ogni mese con la media dei guadagni precedenti,\n",
    "e specificare nell'output se il guadagno attuale è maggiore o minore della media dei precedenti.\n",
    "Esempio di un possibile output: \n",
    "Mese 1: 100 € \n",
    "Mese 2: 90 € (media prec: 100 € - il guadagno attuale è minore)\n",
    "Mese 3: 70 € (media prec: 95 € - il guadagno attuale è minore)\"\"\"\n",
    "guadagni = [100, 90, 70, 40, 50, 80, 90, 120, 80, 20, 50, 50]\n",
    "media_precedente = 0\n",
    "for i, guadagno in enumerate(guadagni):\n",
    "    if i > 0:\n",
    "        media_precedente = sum(guadagni[:i]) / i\n",
    "        confronto = \"maggiore\" if guadagno > media_precedente else \"minore\"\n",
    "        print(f\"Mese {i + 1}: {guadagno} € (media prec: {media_precedente:.2f} € - il guadagno attuale è {confronto})\")\n",
    "    else:\n",
    "        print(f\"Mese { + 1}: {guadagno} €\")"
   ]
  },
  {
   "cell_type": "code",
   "execution_count": null,
   "id": "178b8c4b-6583-497c-a03b-27cc41ae733d",
   "metadata": {},
   "outputs": [],
   "source": []
  }
 ],
 "metadata": {
  "kernelspec": {
   "display_name": "Python 3 (ipykernel)",
   "language": "python",
   "name": "python3"
  },
  "language_info": {
   "codemirror_mode": {
    "name": "ipython",
    "version": 3
   },
   "file_extension": ".py",
   "mimetype": "text/x-python",
   "name": "python",
   "nbconvert_exporter": "python",
   "pygments_lexer": "ipython3",
   "version": "3.11.7"
  }
 },
 "nbformat": 4,
 "nbformat_minor": 5
}
