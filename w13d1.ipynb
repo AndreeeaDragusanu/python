{
 "cells": [
  {
   "cell_type": "code",
   "execution_count": 2,
   "id": "9a1b3e77-e602-48e9-8f42-2415b148166e",
   "metadata": {},
   "outputs": [
    {
     "name": "stdout",
     "output_type": "stream",
     "text": [
      "25\n"
     ]
    }
   ],
   "source": [
    "# Abbiamo 25 studenti; memorizzare questo dato in una variabile.\n",
    "numero_studenti = 25"
   ]
  },
  {
   "cell_type": "code",
   "execution_count": 5,
   "id": "545ff1d8-0755-4a3b-8371-ee2def11be85",
   "metadata": {},
   "outputs": [
    {
     "data": {
      "text/plain": [
       "25"
      ]
     },
     "execution_count": 5,
     "metadata": {},
     "output_type": "execute_result"
    }
   ],
   "source": [
    "# Abbiamo 25 studenti; memorizzare questo dato in una variabile e stamparla a video.\n",
    "numero_studenti"
   ]
  },
  {
   "cell_type": "code",
   "execution_count": 4,
   "id": "d4b85769-6d27-4022-8054-98f7b7261e90",
   "metadata": {},
   "outputs": [
    {
     "data": {
      "text/plain": [
       "3"
      ]
     },
     "execution_count": 4,
     "metadata": {},
     "output_type": "execute_result"
    }
   ],
   "source": [
    "# Abbiamo 25 studenti; memorizzare questo dato in una variabile. Arrivano altri 3 studenti; \n",
    "# memorizzare questo dato in un'altra variabile.\n",
    "numero_nuovi_studenti = 3\n",
    "numero_nuovi_studenti"
   ]
  },
  {
   "cell_type": "code",
   "execution_count": 9,
   "id": "e90b9f8b-49e6-421b-9783-ac4c956a8bed",
   "metadata": {},
   "outputs": [
    {
     "name": "stdout",
     "output_type": "stream",
     "text": [
      "28\n"
     ]
    }
   ],
   "source": [
    "\"\"\" Abbiamo 25 studenti; memorizzare questo dato in una variabile.\n",
    " Arrivano altri 3 studenti; memorizzare questo dato in un'altra variabile.\n",
    "Creare un'altra variabile ancora che conterrà la somma delle prime due, poi stamparla a video.\n",
    "\"\"\"\n",
    "numero_totale_studenti = numero_studenti + numero_nuovi_studenti\n",
    "print(numero_totale_studenti)"
   ]
  },
  {
   "cell_type": "code",
   "execution_count": 5,
   "id": "47eae960-9ac1-4962-98cc-85f17a794f07",
   "metadata": {},
   "outputs": [
    {
     "data": {
      "text/plain": [
       "'Epicode'"
      ]
     },
     "execution_count": 5,
     "metadata": {},
     "output_type": "execute_result"
    }
   ],
   "source": [
    "# Creare una variabile che contiene la stringa \"Epicode\", quindi stamparla a video.\n",
    "nome = \"Epicode\"\n",
    "nome"
   ]
  },
  {
   "cell_type": "code",
   "execution_count": 6,
   "id": "a687d030-ba74-424c-b3d3-907801f1c4f0",
   "metadata": {},
   "outputs": [
    {
     "data": {
      "text/plain": [
       "36"
      ]
     },
     "execution_count": 6,
     "metadata": {},
     "output_type": "execute_result"
    }
   ],
   "source": [
    "# Abbiamo la variabile: x = 10 \n",
    "# Incrementarla di 2 e poi moltiplicarla per 3 \n",
    "# Usare due metodi diversi (ad esempio, uno utilizzando gli operatori di assegnazione, e uno senza)\n",
    "x = 10\n",
    "y = (x + 2) * 3\n",
    "y"
   ]
  },
  {
   "cell_type": "code",
   "execution_count": 7,
   "id": "0af63e05-15d7-4e12-924d-b7093ee0a861",
   "metadata": {},
   "outputs": [
    {
     "data": {
      "text/plain": [
       "36"
      ]
     },
     "execution_count": 7,
     "metadata": {},
     "output_type": "execute_result"
    }
   ],
   "source": [
    "(x + 2) * 3"
   ]
  },
  {
   "cell_type": "code",
   "execution_count": 8,
   "id": "0a823e30-8759-490e-b790-f14bbaf86393",
   "metadata": {},
   "outputs": [
    {
     "name": "stdout",
     "output_type": "stream",
     "text": [
      "compreso\n"
     ]
    }
   ],
   "source": [
    "# Verificare, per ognuna delle seguenti stringhe, se il numero di caratteri è compreso tra 5 e 8:\n",
    "str1 = \"Windows\" \n",
    "if len(str1) >= 5 and len(str1) <= 8:\n",
    "    print(\"compreso\")\n",
    "else:\n",
    "    print(\"non compreso\")"
   ]
  },
  {
   "cell_type": "code",
   "execution_count": 9,
   "id": "baa07e57-072f-4362-868e-a174e7283ef3",
   "metadata": {},
   "outputs": [
    {
     "name": "stdout",
     "output_type": "stream",
     "text": [
      "compreso\n"
     ]
    }
   ],
   "source": [
    "str2 = \"Excel\"\n",
    "if len(str2) >= 5 and len(str2) <= 8:\n",
    "    print(\"compreso\")\n",
    "else:\n",
    "    print(\"non compreso\")"
   ]
  },
  {
   "cell_type": "code",
   "execution_count": 10,
   "id": "8f0660a9-f226-4aef-b8e3-4aab42585b54",
   "metadata": {},
   "outputs": [
    {
     "name": "stdout",
     "output_type": "stream",
     "text": [
      "non compreso\n"
     ]
    }
   ],
   "source": [
    "str3 = \"Powerpoint\"\n",
    "if len(str3) >= 5 and len(str3) <= 8:\n",
    "    print(\"compreso\")\n",
    "else:\n",
    "    print(\"non compreso\")"
   ]
  },
  {
   "cell_type": "code",
   "execution_count": 11,
   "id": "30422f18-05f8-4f7e-8f17-e130a7c2b171",
   "metadata": {},
   "outputs": [
    {
     "name": "stdout",
     "output_type": "stream",
     "text": [
      "non compreso\n"
     ]
    }
   ],
   "source": [
    "str4 = \"Word\"\n",
    "if len(str4) >= 5 and len(str4) <= 8:\n",
    "    print(\"compreso\")\n",
    "else:\n",
    "    print(\"non compreso\")"
   ]
  },
  {
   "cell_type": "code",
   "execution_count": 12,
   "id": "64b543d6-c3f7-485a-aac2-471a78aa757e",
   "metadata": {},
   "outputs": [
    {
     "name": "stdout",
     "output_type": "stream",
     "text": [
      "i secondi in un anno non bisestile sono:  31536000\n"
     ]
    }
   ],
   "source": [
    "# Calcolare e stampare a video quanti secondi ci sono in un anno non bisestile.\n",
    "secondi = 60 * 60 * 24 * 365\n",
    "print(\"i secondi in un anno non bisestile sono: \", secondi)"
   ]
  },
  {
   "cell_type": "code",
   "execution_count": 13,
   "id": "46a2fd13-3dcf-4ffd-80c3-e0df390c99ca",
   "metadata": {},
   "outputs": [
    {
     "data": {
      "text/plain": [
       "'I AM STUDYING PYTHON'"
      ]
     },
     "execution_count": 13,
     "metadata": {},
     "output_type": "execute_result"
    }
   ],
   "source": [
    "# Abbiamo la seguente stringa: my_string = \"I am studying Python\" \n",
    "# • Trasformarla in modo che tutti i caratteri siano maiuscoli (uppercase) \n",
    "# • Trasformarla in modo che tutti i caratteri siano minuscoli (lowercase) \n",
    "# • Sostituire la sottostringa \"Python\" con la stringa \"a lot\" \n",
    "# • Usare il metodo .strip(); cambia qualcosa? Perché?\n",
    "my_string = \"I am studying Python\"\n",
    "my_string.upper()"
   ]
  },
  {
   "cell_type": "code",
   "execution_count": 14,
   "id": "4c651f02-d2e9-40cd-8d5d-b60e99305d04",
   "metadata": {},
   "outputs": [
    {
     "data": {
      "text/plain": [
       "'i am studying python'"
      ]
     },
     "execution_count": 14,
     "metadata": {},
     "output_type": "execute_result"
    }
   ],
   "source": [
    "# • Trasformarla in modo che tutti i caratteri siano minuscoli (lowercase) \n",
    "my_string.lower()"
   ]
  },
  {
   "cell_type": "code",
   "execution_count": 15,
   "id": "db1a88f2-bec8-45a6-849b-04e380cb58dc",
   "metadata": {},
   "outputs": [
    {
     "data": {
      "text/plain": [
       "'I am studying a lot'"
      ]
     },
     "execution_count": 15,
     "metadata": {},
     "output_type": "execute_result"
    }
   ],
   "source": [
    "# • Sostituire la sottostringa \"Python\" con la stringa \"a lot\"\n",
    "my_string.replace(\"Python\", \"a lot\")"
   ]
  },
  {
   "cell_type": "code",
   "execution_count": 7,
   "id": "8bf90c9d-79dc-4eee-8604-1bb680fe65f0",
   "metadata": {},
   "outputs": [
    {
     "data": {
      "text/plain": [
       "'I am studying Python'"
      ]
     },
     "execution_count": 7,
     "metadata": {},
     "output_type": "execute_result"
    }
   ],
   "source": [
    "\n",
    "my_string.strip()"
   ]
  },
  {
   "cell_type": "code",
   "execution_count": null,
   "id": "343e4629-c0ff-4a0f-9cf2-a0c1a5d8ebe3",
   "metadata": {},
   "outputs": [],
   "source": []
  }
 ],
 "metadata": {
  "kernelspec": {
   "display_name": "Python 3 (ipykernel)",
   "language": "python",
   "name": "python3"
  },
  "language_info": {
   "codemirror_mode": {
    "name": "ipython",
    "version": 3
   },
   "file_extension": ".py",
   "mimetype": "text/x-python",
   "name": "python",
   "nbconvert_exporter": "python",
   "pygments_lexer": "ipython3",
   "version": "3.11.7"
  }
 },
 "nbformat": 4,
 "nbformat_minor": 5
}
