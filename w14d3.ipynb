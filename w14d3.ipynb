{
 "cells": [
  {
   "cell_type": "code",
   "execution_count": 1,
   "id": "aa67ab11-b4b6-499a-adf0-b6ba14b74e34",
   "metadata": {},
   "outputs": [
    {
     "data": {
      "text/plain": [
       "array([[ 0,  1,  2,  3,  4],\n",
       "       [ 5,  6,  7,  8,  9],\n",
       "       [10, 11, 12, 13, 14]])"
      ]
     },
     "execution_count": 1,
     "metadata": {},
     "output_type": "execute_result"
    }
   ],
   "source": [
    "\"\"\"Abbiamo una lista di liste: mat = [[0, 1, 2, 3, 4], [5, 6, 7, 8, 9], [10, 11, 12, 13, 14]]\n",
    "Che tipo di struttura dati o matematica potrebbe rappresentare? \n",
    "Notare che tutte le liste \"interne\" sono della stessa dimensione\n",
    "Come facciamo per accedere ad un elemento in particolare?\"\"\"\n",
    "import numpy as np\n",
    "import pandas as pd\n",
    "\n",
    "mat = [[0, 1, 2, 3, 4],[5, 6, 7, 8, 9], [10, 11, 12, 13, 14]]\n",
    "mat_array = np.array(mat)\n",
    "mat_array"
   ]
  },
  {
   "cell_type": "code",
   "execution_count": 4,
   "id": "ae7937d7-f7b7-42ea-abbb-f3458bd46f57",
   "metadata": {},
   "outputs": [
    {
     "data": {
      "text/plain": [
       "(3, 5)"
      ]
     },
     "execution_count": 4,
     "metadata": {},
     "output_type": "execute_result"
    }
   ],
   "source": [
    "mat_array.shape"
   ]
  },
  {
   "cell_type": "code",
   "execution_count": 5,
   "id": "5cce43e4-a7e8-4acb-8d1b-599d580d8378",
   "metadata": {},
   "outputs": [
    {
     "data": {
      "text/plain": [
       "array([0, 1, 2, 3, 4])"
      ]
     },
     "execution_count": 5,
     "metadata": {},
     "output_type": "execute_result"
    }
   ],
   "source": [
    "mat_array[0,:]"
   ]
  },
  {
   "cell_type": "code",
   "execution_count": 6,
   "id": "52628887-0d6c-49d7-a8d4-408cd9d2eb07",
   "metadata": {},
   "outputs": [
    {
     "data": {
      "text/plain": [
       "array([5, 6, 7, 8, 9])"
      ]
     },
     "execution_count": 6,
     "metadata": {},
     "output_type": "execute_result"
    }
   ],
   "source": [
    "mat_array[-2,:]"
   ]
  },
  {
   "cell_type": "code",
   "execution_count": 7,
   "id": "f54221a3-2f36-4eb4-a27a-6df133c796c5",
   "metadata": {},
   "outputs": [
    {
     "data": {
      "text/plain": [
       "7"
      ]
     },
     "execution_count": 7,
     "metadata": {},
     "output_type": "execute_result"
    }
   ],
   "source": [
    "mat_array[1,2]"
   ]
  },
  {
   "cell_type": "code",
   "execution_count": 8,
   "id": "57cc9713-7ec8-4bd3-9f63-e3dfa207ae60",
   "metadata": {},
   "outputs": [
    {
     "data": {
      "text/plain": [
       "array([6, 8])"
      ]
     },
     "execution_count": 8,
     "metadata": {},
     "output_type": "execute_result"
    }
   ],
   "source": [
    "mat_array[-2,1::2]"
   ]
  },
  {
   "cell_type": "code",
   "execution_count": 9,
   "id": "f51e87e6-d63d-4593-8554-e474278a1ad1",
   "metadata": {},
   "outputs": [
    {
     "data": {
      "text/plain": [
       "array([5, 7, 9])"
      ]
     },
     "execution_count": 9,
     "metadata": {},
     "output_type": "execute_result"
    }
   ],
   "source": [
    "mat_array[-2][::2]"
   ]
  },
  {
   "cell_type": "code",
   "execution_count": 10,
   "id": "6344f94e-9497-49e9-afad-0318ffa69ef0",
   "metadata": {},
   "outputs": [
    {
     "data": {
      "text/html": [
       "<div>\n",
       "<style scoped>\n",
       "    .dataframe tbody tr th:only-of-type {\n",
       "        vertical-align: middle;\n",
       "    }\n",
       "\n",
       "    .dataframe tbody tr th {\n",
       "        vertical-align: top;\n",
       "    }\n",
       "\n",
       "    .dataframe thead th {\n",
       "        text-align: right;\n",
       "    }\n",
       "</style>\n",
       "<table border=\"1\" class=\"dataframe\">\n",
       "  <thead>\n",
       "    <tr style=\"text-align: right;\">\n",
       "      <th></th>\n",
       "      <th>0</th>\n",
       "      <th>1</th>\n",
       "      <th>2</th>\n",
       "      <th>3</th>\n",
       "      <th>4</th>\n",
       "    </tr>\n",
       "  </thead>\n",
       "  <tbody>\n",
       "    <tr>\n",
       "      <th>0</th>\n",
       "      <td>0</td>\n",
       "      <td>1</td>\n",
       "      <td>2</td>\n",
       "      <td>3</td>\n",
       "      <td>4</td>\n",
       "    </tr>\n",
       "    <tr>\n",
       "      <th>1</th>\n",
       "      <td>5</td>\n",
       "      <td>6</td>\n",
       "      <td>7</td>\n",
       "      <td>8</td>\n",
       "      <td>9</td>\n",
       "    </tr>\n",
       "    <tr>\n",
       "      <th>2</th>\n",
       "      <td>10</td>\n",
       "      <td>11</td>\n",
       "      <td>12</td>\n",
       "      <td>13</td>\n",
       "      <td>14</td>\n",
       "    </tr>\n",
       "  </tbody>\n",
       "</table>\n",
       "</div>"
      ],
      "text/plain": [
       "    0   1   2   3   4\n",
       "0   0   1   2   3   4\n",
       "1   5   6   7   8   9\n",
       "2  10  11  12  13  14"
      ]
     },
     "execution_count": 10,
     "metadata": {},
     "output_type": "execute_result"
    }
   ],
   "source": [
    "mat_df = pd.DataFrame(mat)\n",
    "mat_df"
   ]
  },
  {
   "cell_type": "code",
   "execution_count": 11,
   "id": "43b61487-7847-42ad-9ce0-e7b54745250c",
   "metadata": {},
   "outputs": [
    {
     "data": {
      "text/plain": [
       "0.8939966636005579"
      ]
     },
     "execution_count": 11,
     "metadata": {},
     "output_type": "execute_result"
    }
   ],
   "source": [
    "\"\"\"Importiamo il modulo math e proviamo a usare le funzioni \n",
    ".sin() \n",
    ".cos() \n",
    ".factorial()\n",
    "e la variabile \n",
    ".pi \n",
    "la riconoscete?\"\"\"\n",
    "import math\n",
    "x = math.sin(90)\n",
    "x"
   ]
  },
  {
   "cell_type": "code",
   "execution_count": 12,
   "id": "1e43e74a-cbc6-4cb7-b3d0-7af974713bcd",
   "metadata": {},
   "outputs": [
    {
     "data": {
      "text/plain": [
       "-0.4480736161291701"
      ]
     },
     "execution_count": 12,
     "metadata": {},
     "output_type": "execute_result"
    }
   ],
   "source": [
    "y = math.cos(90)\n",
    "y"
   ]
  },
  {
   "cell_type": "code",
   "execution_count": 13,
   "id": "fa01bb0f-1edb-49d3-8a77-174f41c28d20",
   "metadata": {},
   "outputs": [
    {
     "data": {
      "text/plain": [
       "362880"
      ]
     },
     "execution_count": 13,
     "metadata": {},
     "output_type": "execute_result"
    }
   ],
   "source": [
    "z = math.factorial(9)\n",
    "z"
   ]
  },
  {
   "cell_type": "code",
   "execution_count": 14,
   "id": "37eb5cf4-df6a-4ed2-b3d1-9f88022d721b",
   "metadata": {},
   "outputs": [
    {
     "data": {
      "text/plain": [
       "3.141592653589793"
      ]
     },
     "execution_count": 14,
     "metadata": {},
     "output_type": "execute_result"
    }
   ],
   "source": [
    "math.pi"
   ]
  },
  {
   "cell_type": "code",
   "execution_count": 15,
   "id": "be79b488-c65f-47db-8681-8a90f2760a03",
   "metadata": {},
   "outputs": [
    {
     "data": {
      "text/plain": [
       "180.0"
      ]
     },
     "execution_count": 15,
     "metadata": {},
     "output_type": "execute_result"
    }
   ],
   "source": [
    "\"\"\"Proviamo a eseguire \n",
    "math.degrees(math.pi)\n",
    "Qual è e cosa significa il risultato?\n",
    "Per saperne di più su questa funzione possiamo usare \n",
    "help(math.degrees\"\"\"\n",
    "math.degrees(math.pi)"
   ]
  },
  {
   "cell_type": "code",
   "execution_count": 16,
   "id": "f57ddd45-eee3-4d71-9ed2-f0694b9e1825",
   "metadata": {},
   "outputs": [
    {
     "name": "stdout",
     "output_type": "stream",
     "text": [
      "Help on built-in function degrees in module math:\n",
      "\n",
      "degrees(x, /)\n",
      "    Convert angle x from radians to degrees.\n",
      "\n"
     ]
    }
   ],
   "source": [
    "help(math.degrees)"
   ]
  },
  {
   "cell_type": "code",
   "execution_count": 17,
   "id": "df3f5422-3742-4649-9168-50f3955d10a2",
   "metadata": {},
   "outputs": [
    {
     "data": {
      "text/plain": [
       "array([2000, 5500, 7200, 4320, 1280, 1900, 2500, 3900, 6410, 8150, 7100,\n",
       "       5350])"
      ]
     },
     "execution_count": 17,
     "metadata": {},
     "output_type": "execute_result"
    }
   ],
   "source": [
    "\"\"\"L'azienda Object SpA ha creato una lista di quanti oggetti ha venduto ogni mese nell'ultimo anno: \n",
    "lst = [2000, 5500, 7200, 4320, 1280, 1900, 2500, 3900, 6410, 8150, 7100, 5350]\n",
    "trasformiamola in un array NumPy (casting): \n",
    "lst = np.array(lst)\n",
    "e rispondiamo alle domande del CEO della Object SpA:\n",
    "• qual è stata la vendita massima mensile? E quella minima?\n",
    "• quali sono le vendite mensili maggiori di 4999 oggetti? E quante ne sono? \n",
    "• quali sono le vendite minori di 3000 oggetti? \n",
    "• in media quanti oggetti sono stati venduti al mese?\"\"\"\n",
    "lst = [2000, 5500, 7200, 4320, 1280, 1900, 2500, 3900, 6410, 8150, 7100, 5350]\n",
    "import numpy as np\n",
    "my_array = np.array(lst)\n",
    "my_array"
   ]
  },
  {
   "cell_type": "code",
   "execution_count": 18,
   "id": "183a1abd-6aec-4655-baae-bcbdd398b89b",
   "metadata": {},
   "outputs": [
    {
     "data": {
      "text/plain": [
       "8150"
      ]
     },
     "execution_count": 18,
     "metadata": {},
     "output_type": "execute_result"
    }
   ],
   "source": [
    "massimo = np.max(my_array)\n",
    "massimo"
   ]
  },
  {
   "cell_type": "code",
   "execution_count": 19,
   "id": "359a4a84-70bf-4517-a534-ac7207d58427",
   "metadata": {},
   "outputs": [
    {
     "data": {
      "text/plain": [
       "1280"
      ]
     },
     "execution_count": 19,
     "metadata": {},
     "output_type": "execute_result"
    }
   ],
   "source": [
    "minimo = np.min(my_array)\n",
    "minimo"
   ]
  },
  {
   "cell_type": "code",
   "execution_count": 20,
   "id": "3a1ceb32-ef24-4168-9059-1a617ef27a1d",
   "metadata": {},
   "outputs": [
    {
     "data": {
      "text/plain": [
       "array([5500, 7200, 6410, 8150, 7100, 5350])"
      ]
     },
     "execution_count": 20,
     "metadata": {},
     "output_type": "execute_result"
    }
   ],
   "source": [
    "vendite_maggiori_di_4999 = my_array[my_array > 4999]\n",
    "vendite_maggiori_di_4999"
   ]
  },
  {
   "cell_type": "code",
   "execution_count": 21,
   "id": "2727b2c3-04c1-48de-8e8d-3d8b2956bb3f",
   "metadata": {},
   "outputs": [
    {
     "data": {
      "text/plain": [
       "6"
      ]
     },
     "execution_count": 21,
     "metadata": {},
     "output_type": "execute_result"
    }
   ],
   "source": [
    "numero_vendite = len(vendite_maggiori_di_4999)\n",
    "numero_vendite"
   ]
  },
  {
   "cell_type": "code",
   "execution_count": 22,
   "id": "b36ca251-53cf-40a5-b7d8-f654ff6f4864",
   "metadata": {},
   "outputs": [
    {
     "data": {
      "text/plain": [
       "array([2000, 1280, 1900, 2500])"
      ]
     },
     "execution_count": 22,
     "metadata": {},
     "output_type": "execute_result"
    }
   ],
   "source": [
    "vendite_minori_di_3000 = my_array[my_array < 3000]\n",
    "vendite_minori_di_3000"
   ]
  },
  {
   "cell_type": "code",
   "execution_count": 23,
   "id": "a5670b7a-1395-4875-8054-88166975b31c",
   "metadata": {},
   "outputs": [
    {
     "data": {
      "text/plain": [
       "4634.166666666667"
      ]
     },
     "execution_count": 23,
     "metadata": {},
     "output_type": "execute_result"
    }
   ],
   "source": [
    "media = np.mean(my_array)\n",
    "media"
   ]
  },
  {
   "cell_type": "code",
   "execution_count": 24,
   "id": "4f5b657d-4453-4ddd-9807-994d47ffba0c",
   "metadata": {},
   "outputs": [
    {
     "data": {
      "text/plain": [
       "{1997: 12000,\n",
       " 1998: 15000,\n",
       " 1999: 20000,\n",
       " 2000: 23000,\n",
       " 2001: 25000,\n",
       " 2002: 17000,\n",
       " 2003: 14000,\n",
       " 2004: 21000}"
      ]
     },
     "execution_count": 24,
     "metadata": {},
     "output_type": "execute_result"
    }
   ],
   "source": [
    "\"\"\"Consideriamo il seguente dizionario:\n",
    "fatturati_dict = {1997: 12_000, 1998: 15_000, 1999: 20_000, 2000: 23_000, 2001: 25_000, 2002: 17_000, 2003: 14_000, 2004: 21_000}\n",
    "Consideriamo ora la seguente Series:\n",
    "fatturati_series = pd.Series([12_000, 15_000, 20_000, 23_000, 25_000, 17_000, 14_000, 21_000],\n",
    "                             index=range(1997, 2005))\n",
    "Possiamo accedere alle stesse informazioni nello stesso modo:\n",
    "fatturati_dict[1997] fatturati_series[1997]\n",
    "Dunque qual è la differenza tra i due tipi di dato? \n",
    "Cosa potremmo fare con la Series che non possiamo fare con il dizionario?\"\"\"\n",
    "fatturati_dict = {1997: 12_000, 1998: 15_000, 1999: 20_000, 2000: 23_000, 2001: 25_000, 2002: 17_000, 2003: 14_000, 2004: 21_000}\n",
    "fatturati_dict"
   ]
  },
  {
   "cell_type": "code",
   "execution_count": 25,
   "id": "bf772abd-ead7-4fd2-8ee5-264564ead505",
   "metadata": {},
   "outputs": [
    {
     "name": "stdout",
     "output_type": "stream",
     "text": [
      "<class 'dict'>\n"
     ]
    }
   ],
   "source": [
    "print(type(fatturati_dict))"
   ]
  },
  {
   "cell_type": "code",
   "execution_count": 26,
   "id": "50f09dd4-4bd2-4774-8485-3293c1e9a533",
   "metadata": {},
   "outputs": [
    {
     "data": {
      "text/plain": [
       "1997    12000\n",
       "1998    15000\n",
       "1999    20000\n",
       "2000    23000\n",
       "2001    25000\n",
       "2002    17000\n",
       "2003    14000\n",
       "2004    21000\n",
       "dtype: int64"
      ]
     },
     "execution_count": 26,
     "metadata": {},
     "output_type": "execute_result"
    }
   ],
   "source": [
    "fatturati_series = pd.Series([12_000, 15_000, 20_000, 23_000, 25_000, 17_000, 14_000, 21_000],\n",
    "                             index=range(1997, 2005))\n",
    "fatturati_series"
   ]
  },
  {
   "cell_type": "code",
   "execution_count": 27,
   "id": "808dd1b9-a263-4bd1-ad8b-32b3d38cfdbd",
   "metadata": {},
   "outputs": [
    {
     "name": "stdout",
     "output_type": "stream",
     "text": [
      "<class 'pandas.core.series.Series'>\n"
     ]
    }
   ],
   "source": [
    "print(type(fatturati_series))"
   ]
  },
  {
   "cell_type": "code",
   "execution_count": 28,
   "id": "ad8e5439-2c34-4e50-8398-e33d662ce477",
   "metadata": {},
   "outputs": [
    {
     "data": {
      "text/plain": [
       "12000"
      ]
     },
     "execution_count": 28,
     "metadata": {},
     "output_type": "execute_result"
    }
   ],
   "source": [
    "fatturati_dict[1997]"
   ]
  },
  {
   "cell_type": "code",
   "execution_count": 29,
   "id": "dc295e15-1361-4f6e-a805-120adae811b2",
   "metadata": {},
   "outputs": [
    {
     "data": {
      "text/plain": [
       "12000"
      ]
     },
     "execution_count": 29,
     "metadata": {},
     "output_type": "execute_result"
    }
   ],
   "source": [
    "fatturati_series[1997]"
   ]
  },
  {
   "cell_type": "code",
   "execution_count": 30,
   "id": "e63f9634-4e7c-455f-9d5a-e769c826b4a4",
   "metadata": {},
   "outputs": [
    {
     "data": {
      "text/plain": [
       "25000"
      ]
     },
     "execution_count": 30,
     "metadata": {},
     "output_type": "execute_result"
    }
   ],
   "source": [
    "fatturati_series.max()"
   ]
  },
  {
   "cell_type": "code",
   "execution_count": 31,
   "id": "99a25927-9e7d-4fd5-ae47-130856914339",
   "metadata": {},
   "outputs": [
    {
     "data": {
      "text/plain": [
       "1998    15000\n",
       "1999    20000\n",
       "2002    17000\n",
       "dtype: int64"
      ]
     },
     "execution_count": 31,
     "metadata": {},
     "output_type": "execute_result"
    }
   ],
   "source": [
    "fatturati_series[fatturati_series.between(15000, 20000)]"
   ]
  },
  {
   "cell_type": "code",
   "execution_count": null,
   "id": "0b2ed27f-3b12-4403-a4e2-3f1a620fdcc4",
   "metadata": {},
   "outputs": [],
   "source": [
    "\"\"\"Esercizio L'azienda Object SpA ha un dataset con tutti gli stipendi dei dipendenti,\n",
    "memorizzato in un ndarray:\n",
    "import numpy as np \n",
    "stipendi = np.array( [100, 200, 300, 400, 500,  600, 700, 800, 900, 1000] ) \n",
    "L'azienda ci chiede di raddoppiare tutti gli stipendi; facciamolo in due modi: \n",
    "• con un ciclo for 7\n",
    "• con il masking\"\"\""
   ]
  },
  {
   "cell_type": "code",
   "execution_count": 32,
   "id": "b859883e-f12d-43ec-8206-53bb485382e8",
   "metadata": {},
   "outputs": [
    {
     "data": {
      "text/plain": [
       "array([ 100,  200,  300,  400,  500,  600,  700,  800,  900, 1000])"
      ]
     },
     "execution_count": 32,
     "metadata": {},
     "output_type": "execute_result"
    }
   ],
   "source": [
    "stipendi = np.array( [100, 200, 300, 400, 500,  600, 700, 800, 900, 1000] ) \n",
    "stipendi"
   ]
  },
  {
   "cell_type": "code",
   "execution_count": 33,
   "id": "b568a01d-9c70-40e3-b1f6-8daa7979b61c",
   "metadata": {},
   "outputs": [
    {
     "data": {
      "text/plain": [
       "[200, 400, 600, 800, 1000, 1200, 1400, 1600, 1800, 2000]"
      ]
     },
     "execution_count": 33,
     "metadata": {},
     "output_type": "execute_result"
    }
   ],
   "source": [
    "lista_stipendi_raddoppiati = []\n",
    "for stipendio in stipendi:\n",
    "    lista_stipendi_raddoppiati.append(stipendio * 2)\n",
    "lista_stipendi_raddoppiati    "
   ]
  },
  {
   "cell_type": "code",
   "execution_count": 34,
   "id": "e91b6aba-4c4b-4070-a4a4-3953266aedae",
   "metadata": {},
   "outputs": [
    {
     "data": {
      "text/plain": [
       "array([ 200,  400,  600,  800, 1000, 1200, 1400, 1600, 1800, 2000])"
      ]
     },
     "execution_count": 34,
     "metadata": {},
     "output_type": "execute_result"
    }
   ],
   "source": [
    "lista_stipendi_raddoppiati_numpy = stipendi * 2\n",
    "lista_stipendi_raddoppiati_numpy"
   ]
  },
  {
   "cell_type": "code",
   "execution_count": null,
   "id": "07bce90a-a0c9-47ad-a5f0-a54b053c1b5d",
   "metadata": {},
   "outputs": [],
   "source": []
  }
 ],
 "metadata": {
  "kernelspec": {
   "display_name": "Python 3 (ipykernel)",
   "language": "python",
   "name": "python3"
  },
  "language_info": {
   "codemirror_mode": {
    "name": "ipython",
    "version": 3
   },
   "file_extension": ".py",
   "mimetype": "text/x-python",
   "name": "python",
   "nbconvert_exporter": "python",
   "pygments_lexer": "ipython3",
   "version": "3.11.7"
  }
 },
 "nbformat": 4,
 "nbformat_minor": 5
}
